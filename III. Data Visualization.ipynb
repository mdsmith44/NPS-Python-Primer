{
 "cells": [
  {
   "cell_type": "markdown",
   "metadata": {},
   "source": [
    "# <center>NPS Python for Data Analysis Primer</center>\n",
    "## <center> <img src='Images/NPS_Logo.jpg' height=250/></center>\n",
    "<center style=\"font-size:24px\">LTC Matt Smith</center>\n",
    "<center style=\"font-size:24px\">NPS Operations Research Dept.</center>\n",
    "<center>matthew.smith@nps.edu</center>"
   ]
  },
  {
   "cell_type": "markdown",
   "metadata": {},
   "source": [
    "# <center>Lesson 3: Data Visualization</center>"
   ]
  },
  {
   "cell_type": "markdown",
   "metadata": {},
   "source": [
    "In this notebook:\n",
    "- [Matplotlib](#Matplotlib)\n",
    "    - [Quick Matplotlib Orientation](#Quick-Matplotlib-Orientation)\n",
    "    - [Figures, Axes, and Subplots](#Figures,-Axes,-and-Subplots)\n",
    "    - [Common Plot Types](#Common-Plot-Types)\n",
    "    - [Labeling Plots](#Labeling-Plots)\n",
    "- [Plotting with Pandas](#Plotting-with-Pandas)\n",
    "    - [Pandas Plotting Overview](#Plotting-with-Pandas)\n",
    "    - [Example: Plotting GFEBS Data](#Example:-Plotting-GFEBS-Data)\n",
    "- [Seaborn](#Seaborn)\n",
    "- [Interactive Graphics with Bokeh](#Interactive-Graphics-with-Bokeh)\n",
    "    - [Example: COVID19 Dashboard](#Example:-COVID19-Dashboard)\n",
    "- [Making GIFs](#Making-GIFs)"
   ]
  },
  {
   "cell_type": "markdown",
   "metadata": {},
   "source": [
    "# Matplotlib"
   ]
  },
  {
   "cell_type": "markdown",
   "metadata": {},
   "source": [
    "Matplotlib is the most common plotting library in python.  Those familiar with MATLAB will notice that it has a similar interface and appearance, which is due to the fact that it was originally developed in 2002 by a physics PhD student who liked the MATLAB computing interface but needed more computational power than it could provide.  Matplotlib has matured since then and now provides a robust platform for producing high quality, mainly 2-dimensional and static plots."
   ]
  },
  {
   "cell_type": "markdown",
   "metadata": {},
   "source": [
    "This notebook gives a quick intro to the main mechanics and functionality to help get started in Matplotlib.  For more details, see the [matplotlib documentation](https://matplotlib.org/).  In particular, the matplotlib gallery is a great place to look for pre-built products that you can then tweak or adapt to your specific use case."
   ]
  },
  {
   "cell_type": "markdown",
   "metadata": {},
   "source": [
    "### Quick Matplotlib Orientation"
   ]
  },
  {
   "cell_type": "code",
   "execution_count": null,
   "metadata": {},
   "outputs": [],
   "source": [
    "#Standard import convention for pyplot, the primary matplotlib plotting tool\n",
    "import matplotlib.pyplot as plt\n",
    "\n",
    "#Lets also import pandas and numpy\n",
    "import pandas as pd\n",
    "import numpy as np"
   ]
  },
  {
   "cell_type": "markdown",
   "metadata": {},
   "source": [
    "Now lets plot!"
   ]
  },
  {
   "cell_type": "code",
   "execution_count": null,
   "metadata": {},
   "outputs": [],
   "source": [
    "#A simple plot\n",
    "x = np.arange(0,15,.01)\n",
    "y = np.sin(x)\n",
    "plt.plot(x,y,color='red',linewidth=3)\n",
    "#Thanks to the %matplotlib notebook command, the plot will automatically display in the cell output"
   ]
  },
  {
   "cell_type": "code",
   "execution_count": null,
   "metadata": {},
   "outputs": [],
   "source": [
    "#Say we want to make another plot with y2 = 2*sin(x)\n",
    "y2 = 2*np.sin(x)\n",
    "plt.plot(x,y2,color='blue',linewidth=3)"
   ]
  },
  {
   "cell_type": "markdown",
   "metadata": {},
   "source": [
    "We can create new figures with plt.figure() to move on to a new plot."
   ]
  },
  {
   "cell_type": "code",
   "execution_count": null,
   "metadata": {},
   "outputs": [],
   "source": [
    "plt.figure(figsize=(3,3)) #Specify figsize in (x inches, y inches) to make it smaller\n",
    "plt.plot(x,y,color='red',linewidth=3)"
   ]
  },
  {
   "cell_type": "code",
   "execution_count": null,
   "metadata": {},
   "outputs": [],
   "source": [
    "#Move on to a NEW figure instead of continuing to add to the previous plot\n",
    "plt.figure(figsize=(3,3))\n",
    "plt.plot(x,y2,color='blue',linewidth=3)"
   ]
  },
  {
   "cell_type": "markdown",
   "metadata": {},
   "source": [
    "### Figures, Axes, and Subplots"
   ]
  },
  {
   "cell_type": "markdown",
   "metadata": {},
   "source": [
    "Before moving on and creating cool looking plots, it's helpful to understand the way that matplotlib sets up the containers that will hold the plots, using Figure, Subplot, and Axes objects.\n",
    "\n",
    "This can be a bit confusing, because matplotlib plots into **Axes** objects, not into **Figure** objects.  Essentially, each Axes object is a canvas which we can draw on with pyplot, and a Figure object is a container that holds one or more Axes objects.\n",
    "\n",
    "Lets look at a couple examples of why this distinction matters."
   ]
  },
  {
   "cell_type": "code",
   "execution_count": null,
   "metadata": {},
   "outputs": [],
   "source": [
    "#Set up a new figure\n",
    "fig1 = plt.figure(figsize=(4,4))\n",
    "#A blank figure should show up below (use fig1.show() if it doesn't)\n",
    "#You can ignore it for now, but it will populate as we run following cells"
   ]
  },
  {
   "cell_type": "code",
   "execution_count": null,
   "metadata": {},
   "outputs": [],
   "source": [
    "#fig1 is a Figure object\n",
    "type(fig1)"
   ]
  },
  {
   "cell_type": "code",
   "execution_count": null,
   "metadata": {},
   "outputs": [],
   "source": [
    "#When we establish a new Figure, it automatically creates a single Axes object\n",
    "#We can access with wtih plt.gca(), for get current axes\n",
    "ax1 = plt.gca()\n",
    "type(ax1)\n",
    "#Notice that this now initiated the x and y axes in the figure above"
   ]
  },
  {
   "cell_type": "markdown",
   "metadata": {},
   "source": [
    "Since a Figure contains one or more Axes objects, Axes objects are effectively subplots, so sometimes you will see the terms axes and subplot used interchangably.  In fact, we just saw that `ax1` is an \"AxesSubplot\" object, further proof that the terms are inter-mingled.  "
   ]
  },
  {
   "cell_type": "code",
   "execution_count": null,
   "metadata": {},
   "outputs": [],
   "source": [
    "#At this point, we can't plot directly into the figure, so this won't work\n",
    "#fig.plot(x,y,color='red')\n",
    "\n",
    "#However, we CAN plot into the axes object\n",
    "ax1.plot(x,y,'red')"
   ]
  },
  {
   "cell_type": "markdown",
   "metadata": {},
   "source": [
    "Note that if we simply run `plt.plot()` instead of `ax.plot()`, it will automatically plot into the current Axes object.  Either method will work, so it's a personal preference which one to use.  I prefer to use ax.plot() to make sure I know exactly what plot I am referring to.  For example, if you use plt.plot() in your cell, then try to come back to the current cell after moving on to a new Axes object elsewhere in the notebook, the plt.plot() command may not do what you expect. "
   ]
  },
  {
   "cell_type": "code",
   "execution_count": null,
   "metadata": {},
   "outputs": [],
   "source": [
    "#Plot into most recent Axes object with plt.plot()\n",
    "plt.plot(x,y2,'blue')\n",
    "#This should have added a blue curve to the previous plot"
   ]
  },
  {
   "cell_type": "code",
   "execution_count": null,
   "metadata": {},
   "outputs": [],
   "source": [
    "#We can use the Axes object to set up and plot in subplots within a figure\n",
    "fig2 = plt.figure(figsize=(4,4))\n",
    "ax1 = fig2.add_subplot(2, 2, 1)\n",
    "ax2 = fig2.add_subplot(2, 2, 2)\n",
    "ax3 = fig2.add_subplot(2, 2, 3)\n",
    "ax1.plot(x,y,'red')\n",
    "ax2.plot(x,y2,'blue')\n",
    "ax3.plot(x,y,'green')"
   ]
  },
  {
   "cell_type": "markdown",
   "metadata": {},
   "source": [
    "It is also common to creat an array of axes/subplot objects when initializing a new figure with subplots."
   ]
  },
  {
   "cell_type": "code",
   "execution_count": null,
   "metadata": {},
   "outputs": [],
   "source": [
    "fig, axes = plt.subplots(2,2)"
   ]
  },
  {
   "cell_type": "code",
   "execution_count": null,
   "metadata": {},
   "outputs": [],
   "source": [
    "#Now note that axes is an array of AxesSubplot objects\n",
    "axes"
   ]
  },
  {
   "cell_type": "code",
   "execution_count": null,
   "metadata": {},
   "outputs": [],
   "source": [
    "#This makes it easy to reference a desired subplot, starting with 0,0 for upper left\n",
    "axes[0,0].plot(x,y,'red')\n",
    "axes[0,1].plot(x,2*y,'blue')\n",
    "axes[1,0].plot(x,3*y,'green')\n",
    "#See plot above for updated suplots"
   ]
  },
  {
   "cell_type": "code",
   "execution_count": null,
   "metadata": {},
   "outputs": [],
   "source": [
    "#We can also adjust the padding and whitespace around and between the subplots\n",
    "fig, axes = plt.subplots(2,2)\n",
    "axes[0,0].plot(x,y,'red')\n",
    "axes[0,1].plot(x,2*y,'blue')\n",
    "axes[1,0].plot(x,3*y,'green')\n",
    "axes[1,1].plot(x,4*y,'purple')\n",
    "#Adjust padding on left, right, top and bottom, and adjust width-space and height space between\n",
    "plt.subplots_adjust(wspace=0, hspace=0)"
   ]
  },
  {
   "cell_type": "code",
   "execution_count": null,
   "metadata": {},
   "outputs": [],
   "source": [
    "#You may have noticed that the y-axes are different for each subplot\n",
    "#We can force subplots to use same axes\n",
    "fig, axes = plt.subplots(2,2,sharex=True,sharey=True)\n",
    "axes[0,0].plot(x,y,'red')\n",
    "axes[0,1].plot(x,2*y,'blue')\n",
    "axes[1,0].plot(x,3*y,'green')\n",
    "axes[1,1].plot(x,4*y,'purple')\n",
    "#Adjust padding on left, right, top and bottom, and adjust width-space and height space between\n",
    "plt.subplots_adjust(wspace=0, hspace=0)"
   ]
  },
  {
   "cell_type": "markdown",
   "metadata": {},
   "source": [
    "We canvsave a figure with `fig.savefig(filname)`, where fig is the name of a Figure object.  We could also use `plt.savefig(filename)'` to save the current active figure, though this seems to work best when used inside the same cell where the figure was defined."
   ]
  },
  {
   "cell_type": "code",
   "execution_count": null,
   "metadata": {},
   "outputs": [],
   "source": [
    "fig.savefig('Images/sine_waves.png')"
   ]
  },
  {
   "cell_type": "markdown",
   "metadata": {},
   "source": [
    "The savefig() method infers the file type from the name, so if you provided a filename with .pdf or .jpg or .svg, it will automatically save into that format.  "
   ]
  },
  {
   "cell_type": "markdown",
   "metadata": {},
   "source": [
    "With the basics covered, lets move on to making cool plots!"
   ]
  },
  {
   "cell_type": "markdown",
   "metadata": {},
   "source": [
    "### Common Plot Types"
   ]
  },
  {
   "cell_type": "markdown",
   "metadata": {},
   "source": [
    "#### Line Plots"
   ]
  },
  {
   "cell_type": "markdown",
   "metadata": {},
   "source": [
    "We've already seen basic line plots, but lets take a closer look at how they are constructed and get more familiarity with the various mechanics of how to build plots in matplotlib."
   ]
  },
  {
   "cell_type": "code",
   "execution_count": null,
   "metadata": {},
   "outputs": [],
   "source": [
    "#Build some data to plot\n",
    "x_data = np.array([1,2,3,4,5,6,7,8,9,10])\n",
    "linear_data = 2*x_data\n",
    "exponential_data = x_data**2"
   ]
  },
  {
   "cell_type": "code",
   "execution_count": null,
   "metadata": {},
   "outputs": [],
   "source": [
    "#initialize figure and axes\n",
    "fig, axes = plt.subplots(3,3)\n",
    "\n",
    "#We can just specify x and y value to plot a single line\n",
    "axes[0,0].plot(x_data,linear_data,color='blue')\n",
    "\n",
    "#If we just specify y, it automatically uses index as the x coordinates\n",
    "axes[0,1].plot(linear_data,color='red')\n",
    "\n",
    "#To plot multiple lines, we could call plot multiple times\n",
    "axes[0,2].plot(linear_data)\n",
    "axes[0,2].plot(exponential_data)\n",
    "\n",
    "#We can also plot multiple lines by feeding in ax.plot(x1,y1,x2,y2,...)\n",
    "axes[1,0].plot(x_data,linear_data,x_data,exponential_data)\n",
    "\n",
    "#Specify various line and marker styles with (x1,y1,format1,x2,y2,format2,...)\n",
    "axes[1,1].plot(x_data,linear_data,'-o',x_data,exponential_data,':x')"
   ]
  },
  {
   "cell_type": "markdown",
   "metadata": {},
   "source": [
    "Instead of feeding in x and y arrays, we can also feed in a dataset and then reference the name of the column containing the x and y data."
   ]
  },
  {
   "cell_type": "code",
   "execution_count": null,
   "metadata": {},
   "outputs": [],
   "source": [
    "#Build a dataframe\n",
    "df_lines = pd.DataFrame({'x':x_data,'y1':linear_data,'y2':exponential_data})\n",
    "df_lines"
   ]
  },
  {
   "cell_type": "code",
   "execution_count": null,
   "metadata": {},
   "outputs": [],
   "source": [
    "#Plot single line by specifying columns in data\n",
    "axes[1,2].plot('x','y1',data=df_lines)"
   ]
  },
  {
   "cell_type": "code",
   "execution_count": null,
   "metadata": {},
   "outputs": [],
   "source": [
    "#It's tricky to plot multiple columns using the data argument\n",
    "#Easier to just feed in multiple columns directly\n",
    "axes[2,0].plot(df_lines['x'],df_lines[['y1','y2']])"
   ]
  },
  {
   "cell_type": "code",
   "execution_count": null,
   "metadata": {},
   "outputs": [],
   "source": [
    "#Another useful line function is filling between two lines\n",
    "plt.figure(figsize=(3,3))\n",
    "plt.plot(x_data,linear_data,x_data,exponential_data)\n",
    "plt.fill_between(x_data,linear_data, exponential_data, \n",
    "                       facecolor='blue', \n",
    "                       alpha=0.25)"
   ]
  },
  {
   "cell_type": "markdown",
   "metadata": {},
   "source": [
    "#### Scatterplots"
   ]
  },
  {
   "cell_type": "code",
   "execution_count": null,
   "metadata": {},
   "outputs": [],
   "source": [
    "fig = plt.figure(figsize=(3,3))\n",
    "#Basic scatter plot with plt.scatter() or ax.scatter()\n",
    "plt.scatter(x_data,linear_data)"
   ]
  },
  {
   "cell_type": "code",
   "execution_count": null,
   "metadata": {},
   "outputs": [],
   "source": [
    "#Adjust attributes such as size (in screen pixels), color, and marker\n",
    "fig = plt.figure(figsize=(3,3))\n",
    "plt.scatter(x_data,linear_data,s=100,color='red',marker='^')"
   ]
  },
  {
   "cell_type": "markdown",
   "metadata": {},
   "source": [
    "#### Barplots"
   ]
  },
  {
   "cell_type": "code",
   "execution_count": null,
   "metadata": {},
   "outputs": [],
   "source": [
    "plt.figure()\n",
    "plt.bar(x_data, linear_data, width = 0.3,color='blue')"
   ]
  },
  {
   "cell_type": "code",
   "execution_count": null,
   "metadata": {},
   "outputs": [],
   "source": [
    "#It can be clunky to plot mutliple bars side by side.  Generally have to manually build the new list of x coordinates\n",
    "x_data2 = [x+.25 for x in x_data]\n",
    "plt.bar(x_data2,exponential_data,width = 0.3,color='red')"
   ]
  },
  {
   "cell_type": "code",
   "execution_count": null,
   "metadata": {},
   "outputs": [],
   "source": [
    "#To make stacked bar charts, we need to speicfy the start of the upper stack as the top of the lower stack\n",
    "plt.figure(figsize=(3,3))\n",
    "plt.bar(x_data,linear_data,width = 0.3,color='blue')\n",
    "plt.bar(x_data,exponential_data,width=0.3,color='red',bottom=linear_data)"
   ]
  },
  {
   "cell_type": "code",
   "execution_count": null,
   "metadata": {},
   "outputs": [],
   "source": [
    "#Horizontal bar charts\n",
    "plt.figure(figsize=(3,3))\n",
    "plt.barh(x_data, linear_data, height = 0.3, color='b')\n",
    "plt.barh(x_data, exponential_data, height = 0.3, left=linear_data, color='r')"
   ]
  },
  {
   "cell_type": "markdown",
   "metadata": {},
   "source": [
    "#### Histograms"
   ]
  },
  {
   "cell_type": "markdown",
   "metadata": {},
   "source": [
    "Neat example drawn from Coursera course Applied Plotting in Python."
   ]
  },
  {
   "cell_type": "code",
   "execution_count": null,
   "metadata": {},
   "outputs": [],
   "source": [
    "fig, axes = plt.subplots(2, 2, sharex=True)\n",
    "axes_list = list(np.reshape(axes,(4,1)))\n",
    "axes_list[0]"
   ]
  },
  {
   "cell_type": "code",
   "execution_count": null,
   "metadata": {},
   "outputs": [],
   "source": [
    "# create 2x2 grid of axis subplots\n",
    "fig, axes = plt.subplots(2, 2, sharex=True)\n",
    "axes_list = np.hstack(np.reshape(axes,(4,1)))\n",
    "\n",
    "# draw n = 10, 100, 1000, and 10000 samples from the normal distribution and plot corresponding histograms\n",
    "for n in range(0,len(axes)):\n",
    "    sample_size = 10**(n+1)\n",
    "    sample = np.random.normal(loc=0.0, scale=1.0, size=sample_size)\n",
    "    axes_list[n].hist(sample)\n",
    "    axes_list[n].set_title('n={}'.format(sample_size))"
   ]
  },
  {
   "cell_type": "code",
   "execution_count": null,
   "metadata": {},
   "outputs": [],
   "source": [
    "fig, axes = plt.subplots(2, 2, sharex=True)\n",
    "axes_list = np.hstack(np.reshape(axes,(4,1)))\n",
    "\n",
    "# draw n = 10, 100, 1000, and 10000 samples from the normal distribution and plot corresponding histograms\n",
    "for n in range(0,len(axes)):\n",
    "    sample_size = 10**(n+1)\n",
    "    sample = np.random.normal(loc=0.0, scale=1.0, size=sample_size)\n",
    "    axes_list[n].hist(sample,bins=50)\n",
    "    axes_list[n].set_title('n={}'.format(sample_size))"
   ]
  },
  {
   "cell_type": "markdown",
   "metadata": {},
   "source": [
    "#### Heatmaps"
   ]
  },
  {
   "cell_type": "code",
   "execution_count": null,
   "metadata": {},
   "outputs": [],
   "source": [
    "#We can create heatmaps in matplotlib using plt.hist2d\n",
    "plt.figure(figsize=(3,3))\n",
    "\n",
    "Y = np.random.normal(loc=0.0, scale=1.0, size=10000)\n",
    "X = np.random.random(size=10000)\n",
    "plt.hist2d(X, Y, bins=25)\n",
    "\n",
    "#Add a colorbar\n",
    "plt.colorbar()"
   ]
  },
  {
   "cell_type": "markdown",
   "metadata": {},
   "source": [
    "We can also create heatmaps using the plt.pcolor() plotting call.  Here's a neat example adapted from https://stackoverflow.com/questions/14391959/heatmap-in-matplotlib-with-pcolor.  "
   ]
  },
  {
   "cell_type": "code",
   "execution_count": null,
   "metadata": {},
   "outputs": [],
   "source": [
    "nba = pd.read_csv(\"http://datasets.flowingdata.com/ppg2008.csv\", index_col=0)\n",
    "\n",
    "# Normalize data columns\n",
    "nba_norm = (nba - nba.mean()) / (nba.max() - nba.min())\n",
    "\n",
    "# Sort data according to Points, lowest to highest\n",
    "# This was just a design choice made by Yau\n",
    "# inplace=False (default) ->thanks SO user d1337\n",
    "nba_sort = nba_norm.sort_values('PTS', ascending=True)\n",
    "\n",
    "nba_sort['PTS'].head(10)\n",
    "\n",
    "# Plot it out\n",
    "fig, ax = plt.subplots()\n",
    "heatmap = ax.pcolor(nba_sort, cmap=plt.cm.Blues, alpha=0.8)\n",
    "\n",
    "# Format\n",
    "fig = plt.gcf()\n",
    "fig.set_size_inches(8, 11)\n",
    "\n",
    "# turn off the frame\n",
    "ax.set_frame_on(False)\n",
    "\n",
    "# put the major ticks at the middle of each cell\n",
    "ax.set_yticks(np.arange(nba_sort.shape[0]) + 0.5, minor=False)\n",
    "ax.set_xticks(np.arange(nba_sort.shape[1]) + 0.5, minor=False)\n",
    "\n",
    "# want a more natural, table-like display\n",
    "ax.invert_yaxis()\n",
    "ax.xaxis.tick_top()\n",
    "\n",
    "# Set the labels\n",
    "\n",
    "# label source:https://en.wikipedia.org/wiki/Basketball_statistics\n",
    "labels = [\n",
    "    'Games', 'Minutes', 'Points', 'Field goals made', 'Field goal attempts', 'Field goal percentage', 'Free throws made', 'Free throws attempts', 'Free throws percentage',\n",
    "    'Three-pointers made', 'Three-point attempt', 'Three-point percentage', 'Offensive rebounds', 'Defensive rebounds', 'Total rebounds', 'Assists', 'Steals', 'Blocks', 'Turnover', 'Personal foul']\n",
    "\n",
    "# note I could have used nba_sort.columns but made \"labels\" instead\n",
    "ax.set_xticklabels(labels, minor=False)\n",
    "ax.set_yticklabels(nba_sort.index, minor=False)\n",
    "\n",
    "# rotate the xticks\n",
    "plt.xticks(rotation=90)\n",
    "\n",
    "ax.grid(False)\n",
    "\n",
    "# Turn off all the ticks\n",
    "ax = plt.gca()\n",
    "\n",
    "for t in ax.xaxis.get_major_ticks():\n",
    "    t.tick1On = False\n",
    "    t.tick2On = False\n",
    "for t in ax.yaxis.get_major_ticks():\n",
    "    t.tick1On = False\n",
    "    t.tick2On = False"
   ]
  },
  {
   "cell_type": "markdown",
   "metadata": {},
   "source": [
    "### Labeling Plots"
   ]
  },
  {
   "cell_type": "markdown",
   "metadata": {},
   "source": [
    "The NBA heatmap examples highlights the importance of being able to manipulate the axis and tick labels.  Lets take a closer look at how to manipulate these features of a plot."
   ]
  },
  {
   "cell_type": "markdown",
   "metadata": {},
   "source": [
    "#### Title, Ticks, and Axis Labels"
   ]
  },
  {
   "cell_type": "code",
   "execution_count": null,
   "metadata": {},
   "outputs": [],
   "source": [
    "#Recreate a basic bar chart\n",
    "x_data = np.array([1,2,3,4,5,6,7,8,9,10])\n",
    "linear_data = 2*x_data\n",
    "exponential_data = x_data**2\n",
    "fig,ax = plt.subplots(figsize=(6,6))\n",
    "bar_width = 0.3\n",
    "ax.bar(x_data,linear_data,width=bar_width,color='blue')\n",
    "x_data2 = [x+bar_width for x in x_data]\n",
    "ax.bar(x_data2,exponential_data,width=bar_width,color='red')"
   ]
  },
  {
   "cell_type": "markdown",
   "metadata": {},
   "source": [
    "In general there are two ways to adjust the plot labels.  We can either use plt commands (e.g. `plt.title(\"Plot Title\")` to set title), or we can use methods of the AxesSubplot objects (e.g. `ax.set_title(\"Plot Title\")`).  I prefer to use the Axes methods, because they tend to be more explicit and clear.  For one, when calling an Axes object you know exactly what object it is referring to, whereas plt.title() refers to the currently active axes object (which can change).\n",
    "\n",
    "Second, the Axes methods tend to be more explicit.  For example, we can call `plt.xlim()` to GET a tuple of the current x limits, or we can call `plt.xlim([0,5])` to SET the xlimits.  By contrast, the commands for Axes objects tend to be more clear, e.g. `ax.get_xlim()` to get the limits and `ax.set_xlim([0,5])` to set it.  Hence, I mainly use the Axes methods, but both are available."
   ]
  },
  {
   "cell_type": "code",
   "execution_count": null,
   "metadata": {},
   "outputs": [],
   "source": [
    "#Some common methods to update labels.  These should update the bar plot above after running this cell.\n",
    "\n",
    "#Set title\n",
    "#Matplotlib doesn't have built in subtitle, but you can add newline character \\n to move to new line\n",
    "ax.set_title('Bar Chart \\nBuilt in matplotlib')\n",
    "\n",
    "#Set x and y limits\n",
    "ax.set_xlim([-1,12])\n",
    "ax.set_ylim([-10,np.max(exponential_data)+20])\n",
    "\n",
    "#Set x and y axis labels\n",
    "ax.set_xlabel('Categories')\n",
    "ax.set_ylabel('Value')\n",
    "\n",
    "#Set exact xtick locations and \n",
    "ax.set_xticks([2,4,6,8,10])\n",
    "ax.set_xticklabels(['A','B','C','D','E'],rotation=90)\n",
    "\n"
   ]
  },
  {
   "cell_type": "markdown",
   "metadata": {},
   "source": [
    "#### Legends\n",
    "\n",
    "There are two common implementations to get legends.  First is to add all the plots, and then call `ax.legend(labels)` with a list of the labels you want to add."
   ]
  },
  {
   "cell_type": "code",
   "execution_count": null,
   "metadata": {},
   "outputs": [],
   "source": [
    "fig,ax = plt.subplots(figsize=(4,4))\n",
    "ax.plot(x_data,linear_data,'-bo',x_data,exponential_data,':rx')\n",
    "ax.legend(['Linear','Exponential'])"
   ]
  },
  {
   "cell_type": "markdown",
   "metadata": {},
   "source": [
    "Another approach is to add a label to each element as it is plotted, then simply call legend() at the end."
   ]
  },
  {
   "cell_type": "code",
   "execution_count": null,
   "metadata": {},
   "outputs": [],
   "source": [
    "fig,ax = plt.subplots(figsize=(4,4))\n",
    "ax.plot(x_data,linear_data,'-bo',label='Linear Data')\n",
    "ax.plot(x_data,exponential_data,':rx',label='Exponential Data')\n",
    "ax.legend(loc='center left') #See matplotlib documentation for more possible legend locations"
   ]
  },
  {
   "cell_type": "markdown",
   "metadata": {},
   "source": [
    "#### Adding Annotations"
   ]
  },
  {
   "cell_type": "code",
   "execution_count": null,
   "metadata": {},
   "outputs": [],
   "source": [
    "fig,ax = plt.subplots(figsize=(4,4))\n",
    "ax.plot(x_data,linear_data,'-bo',x_data,exponential_data,':rx')\n",
    "\n",
    "#We can add text with ax.text()\n",
    "ax.text(np.min(x_data),np.max(exponential_data)-10,'My Plot',ha='left')\n",
    "\n",
    "#We can also add fancier annotations such as arrows with ax.annotate()\n",
    "labels = ['Close Together','Far Apart']\n",
    "xs=[3,7]\n",
    "ys = [exponential_data[x-1] for x in xs]\n",
    "for i, label in enumerate(labels):\n",
    "    ax.annotate(label,\n",
    "                xy=(xs[i],ys[i]+5),\n",
    "                xytext = (xs[i],ys[i]+25),\n",
    "               arrowprops=dict(facecolor='black', headwidth=4, width=2,headlength=4),\n",
    "               horizontalalignment='center', verticalalignment='top')\n",
    "#The xytext option pushes the text up above"
   ]
  },
  {
   "cell_type": "markdown",
   "metadata": {},
   "source": [
    "# Plotting with Pandas"
   ]
  },
  {
   "cell_type": "markdown",
   "metadata": {},
   "source": [
    "Pandas has many built in methods for creating plots from the data with a DataFrame or Series.  These methods are built on top of matplotlib, but provide some useful shortcuts and functionality that often can be better suited to plotting the multiple columns of data we have in a DataFrame.  \n",
    "\n",
    "Since the pandas plotting methods are implemented in matplotlib, we will need one of the matplotlib magic commands (`%matplotlib notebook` or `%matplotlib inline`), even if we do not call the matplotlib package at all.  Lets re-import the key components in case you are starting from this point in the notebook."
   ]
  },
  {
   "cell_type": "code",
   "execution_count": null,
   "metadata": {},
   "outputs": [],
   "source": [
    "import pandas as pd\n",
    "import numpy as np\n",
    "import matplotlib.pyplot as plt"
   ]
  },
  {
   "cell_type": "markdown",
   "metadata": {},
   "source": [
    "#### Pandas Plotting Overview"
   ]
  },
  {
   "cell_type": "code",
   "execution_count": null,
   "metadata": {},
   "outputs": [],
   "source": [
    "#Create some fake stock data\n",
    "np.random.seed(1)\n",
    "\n",
    "df = pd.DataFrame({'A': np.random.randn(365).cumsum(0), \n",
    "                   'B': np.random.randn(365).cumsum(0) + 20,\n",
    "                   'C': np.random.randn(365).cumsum(0) - 20}, \n",
    "                  index=pd.date_range('1/1/2017', periods=365))\n",
    "\n",
    "#If we assign a name to the dataframe index and columns, then those names will show up in the plots\n",
    "df.index.name = \"Date\"\n",
    "df.columns.name = \"Stocks\"\n",
    "\n",
    "df.head()"
   ]
  },
  {
   "cell_type": "code",
   "execution_count": null,
   "metadata": {},
   "outputs": [],
   "source": [
    "#Now plot a line chart\n",
    "df.plot(kind='line',y=['A','B','C']) \n",
    "#y specifies which columns to plot.  Default is all columns, so we technically don't need to include it here. \n",
    "#By default df.plot() uses DataFrame index for x, or we could specify a different column if we wanted with df.plot(x='col_name')"
   ]
  },
  {
   "cell_type": "code",
   "execution_count": null,
   "metadata": {},
   "outputs": [],
   "source": [
    "#We can also feed in many of the plot properties when we call df.plot()\n",
    "df.plot(kind='line',title='Title',figsize=(5,3),rot=45) #Default is to plot all columns, so we dont' need y="
   ]
  },
  {
   "cell_type": "code",
   "execution_count": null,
   "metadata": {},
   "outputs": [],
   "source": [
    "#Can also create separate subplot for each column\n",
    "df.plot(subplots=True,layout=(3,1))"
   ]
  },
  {
   "cell_type": "markdown",
   "metadata": {},
   "source": [
    "While we can specify some of the plot properties directly in the arguments of df.plot(), this only provides limited options.  For example, there's no easy way to add a custom axis label.  \n",
    "\n",
    "To get more ability to customize the plot, we can take advantage of the fact that the plotting call `df.plot()` technically returns an AxesSubplot object.  For example, we could get the Axes object by running `ax = plt.gca()` right after making the plot (gca = get current axes), and then update the plot properties.  Or we could simply assign a plot call to an axes variable, as follows."
   ]
  },
  {
   "cell_type": "code",
   "execution_count": null,
   "metadata": {},
   "outputs": [],
   "source": [
    "ax = df.plot(kind='line',figsize=(5,4))\n",
    "ax.set_title('Cool Title')\n",
    "ax.set_xlabel('Date')\n",
    "ax.set_ylabel('Price')\n",
    "#Can also use matplotlib.pyplot to manipulate plot\n",
    "plt.xticks(rotation=45)\n",
    "plt.subplots_adjust(bottom=.25)"
   ]
  },
  {
   "cell_type": "markdown",
   "metadata": {},
   "source": [
    "So far we've seen line plots, implemented with `df.plot(kind='line')`.  Pandas supports many other types of plots using other values of the \"kind\" argument, including 'area', 'bar', 'barh', 'density', 'hist', 'kde', 'line', 'pie'.  \n",
    "\n",
    "A quick note on plotting methods before moving on.  For any of the plot kinds, you can also create the plots with `df.plot.line()`, `df.plot.hist()`, etc.  These two approaches (`df.plot(kind='line')` vs `df.plot.line()`) are roughly the same, though sometimes the direct plotting call (e.g. `df.plot.hist()`) will offer some additional plotting parameters that you won't necessarily find in the generic plotting call (e.g. `df.plot(kind='hist')`).  Hence, I generally prefer to use `df.plot.kind()` methods.  "
   ]
  },
  {
   "cell_type": "code",
   "execution_count": null,
   "metadata": {},
   "outputs": [],
   "source": [
    "#Scatter plots\n",
    "#This will plot 'A' on x axis, 'C' on y axis, and color code according to values in column B\n",
    "ax = df.plot.scatter('A', 'C', c='B', s=df['B'], colormap='viridis')\n",
    "ax.set_aspect('equal')"
   ]
  },
  {
   "cell_type": "code",
   "execution_count": null,
   "metadata": {},
   "outputs": [],
   "source": [
    "#Plot a histogram\n",
    "#Here the histograms will overlap, so we use the alpha parameter to make the plots transparent (alpha=0 for fully transparent)\n",
    "df.plot.hist(alpha=0.7,bins=10);"
   ]
  },
  {
   "cell_type": "markdown",
   "metadata": {},
   "source": [
    "Kernel desnity estimates are a neat way to find continuous function fits to the data samples."
   ]
  },
  {
   "cell_type": "code",
   "execution_count": null,
   "metadata": {},
   "outputs": [],
   "source": [
    "df.plot.kde()"
   ]
  },
  {
   "cell_type": "code",
   "execution_count": null,
   "metadata": {},
   "outputs": [],
   "source": [
    "#Bar plot example, taken from McKinney's Python Data Analysis book\n",
    "df = pd.DataFrame(np.random.rand(6, 4),\n",
    "                  index=['one', 'two', 'three', 'four', 'five', 'six'],\n",
    "                  columns=pd.Index(['A', 'B', 'C', 'D'], name='Genus'))\n",
    "df.plot.bar()"
   ]
  },
  {
   "cell_type": "markdown",
   "metadata": {},
   "source": [
    "We can easily create stacked bar charts with stacked=True.  This was not an available option with basic matplotlib, which highlights some of the added utility of using the pandas plotting methods."
   ]
  },
  {
   "cell_type": "code",
   "execution_count": null,
   "metadata": {},
   "outputs": [],
   "source": [
    "#Create horizontal stacked bar chart\n",
    "df.plot.barh(stacked=True,alpha=.5)"
   ]
  },
  {
   "cell_type": "markdown",
   "metadata": {},
   "source": [
    "We can also create a scatter matrix, very useful for machine learning applications."
   ]
  },
  {
   "cell_type": "code",
   "execution_count": null,
   "metadata": {},
   "outputs": [],
   "source": [
    "#Lets load the iris dataset\n",
    "from sklearn.datasets import load_iris\n",
    "iris = load_iris()\n",
    "print(iris.keys())\n",
    "df_iris = pd.DataFrame(data=iris['data'],columns=iris['feature_names'])\n",
    "df_iris['Name'] = iris['target']\n",
    "df_iris.Name = df_iris.Name.map(dict(zip(np.arange(len(iris['target_names'])),iris['target_names'])))\n",
    "df_iris.head(3)"
   ]
  },
  {
   "cell_type": "code",
   "execution_count": null,
   "metadata": {},
   "outputs": [],
   "source": [
    "#The on diagonal plots show hist of values for that feature; off-diag show relation between each pair\n",
    "ax = pd.plotting.scatter_matrix(df_iris,figsize=(8,8))"
   ]
  },
  {
   "cell_type": "code",
   "execution_count": null,
   "metadata": {},
   "outputs": [],
   "source": []
  },
  {
   "cell_type": "markdown",
   "metadata": {},
   "source": [
    "# Seaborn"
   ]
  },
  {
   "cell_type": "markdown",
   "metadata": {},
   "source": [
    "The python plotting package [Seaborn](https://seaborn.pydata.org/index.html) is popular in the python data visualization ecosystem as it provides many great looking plot templates and integrates well with matplotlib and pandas.  Here are a few quick examples."
   ]
  },
  {
   "cell_type": "code",
   "execution_count": null,
   "metadata": {},
   "outputs": [],
   "source": [
    "#Standard import \n",
    "import seaborn as sns"
   ]
  },
  {
   "cell_type": "code",
   "execution_count": null,
   "metadata": {},
   "outputs": [],
   "source": [
    "#Pairplots\n",
    "sns.pairplot(df_iris, hue='Name', diag_kind='kde', size=2);"
   ]
  },
  {
   "cell_type": "markdown",
   "metadata": {},
   "source": [
    "Seaborn has a nifty [heatmap](https://seaborn.pydata.org/generated/seaborn.heatmap.html) function as well.  Here's a quick example adapted from https://www.statology.org/seaborn-heatmap/:"
   ]
  },
  {
   "cell_type": "code",
   "execution_count": null,
   "metadata": {},
   "outputs": [],
   "source": [
    "#load \"flights\" dataset\n",
    "df_flights = sns.load_dataset(\"flights\")\n",
    "\n",
    "df_flights.head()"
   ]
  },
  {
   "cell_type": "code",
   "execution_count": null,
   "metadata": {},
   "outputs": [],
   "source": [
    "#pivot to get into right structure\n",
    "df_flights_plot = df_flights.pivot_table(columns=\"month\",index=\"year\", \n",
    "                                         values=\"passengers\",aggfunc='sum')\n",
    "df_flights_plot.head()"
   ]
  },
  {
   "cell_type": "code",
   "execution_count": null,
   "metadata": {},
   "outputs": [],
   "source": [
    "#Aaaand, plot!\n",
    "hm = sns.heatmap(df_flights_plot)"
   ]
  },
  {
   "cell_type": "code",
   "execution_count": null,
   "metadata": {},
   "outputs": [],
   "source": [
    "#We can also change the look and colors with all kinds of options\n",
    "sns.heatmap(df_flights_plot, annot=True, fmt=\"d\", \n",
    "            cmap=\"coolwarm\",\n",
    "            annot_kws={\"size\":8},\n",
    "            cbar_kws={'label': 'colorbar title'})"
   ]
  },
  {
   "cell_type": "markdown",
   "metadata": {},
   "source": [
    "As with pandas plots, Seaborn plots are built on top of matplotlib.  That means we can access the underlying matplotlib object to alter some of the plot characterstics.\n",
    "\n",
    "For example, Seaborn doesn't have a built-in option to adjust figure size or add titles, but we can use the matplotlib figure to adjust these values."
   ]
  },
  {
   "cell_type": "code",
   "execution_count": null,
   "metadata": {},
   "outputs": [],
   "source": [
    "#set heatmap size\n",
    "plt.figure(figsize = (8,3))\n",
    "\n",
    "sns.heatmap(df_flights_plot, annot=True, fmt=\"d\", \n",
    "            cmap=\"coolwarm\",\n",
    "            annot_kws={\"size\":8},\n",
    "            cbar_kws={'label': 'colorbar title'})\n",
    "\n",
    "#Add title\n",
    "plt.title('Total Flights by Month')"
   ]
  },
  {
   "cell_type": "markdown",
   "metadata": {},
   "source": [
    "# Interactive Graphics with Bokeh"
   ]
  },
  {
   "cell_type": "markdown",
   "metadata": {},
   "source": [
    "Although matplotlib, pandas, and seaborn are great for producing static images, they provide hardly any ability to produce interactive graphics.  Bokeh provides the ability to produce rich, interactive graphics that can be shared over the web, and has grown in popularity in recent years.  I used it extensively in my last data science role and got a lot of positive feedback from users who enjoyed the interactive graphics.  \n",
    "\n",
    "As an example, see https://mdsmith44.github.io/COVID19_Analysis/ for an example COVID19 dashboard built in bokeh.  We will show here how to create the \"square map\" portion here.\n",
    "\n",
    "The [bokeh documentation](https://docs.bokeh.org/en/latest/index.html) has a useful tutorial and a great [gallery](https://docs.bokeh.org/en/latest/docs/gallery.html#gallery) with many helpful examples.  We give a quick demo here to give an idea for the power of the bokeh package."
   ]
  },
  {
   "cell_type": "code",
   "execution_count": null,
   "metadata": {},
   "outputs": [],
   "source": [
    "#Re-import in case you are starting from this point in the notebook\n",
    "import pandas as pd\n",
    "import numpy as np"
   ]
  },
  {
   "cell_type": "markdown",
   "metadata": {},
   "source": [
    "### Bokeh Plotting Basics"
   ]
  },
  {
   "cell_type": "markdown",
   "metadata": {},
   "source": [
    "Lets start with a simple example from the bokeh gallery to give a feel for how to create plots and how to add user interactions.  We will build off of the [Penguin Species](https://docs.bokeh.org/en/latest/docs/gallery/marker_map.html) example from bokeh's website.\n",
    "\n",
    "Lets read in the sample data to see what we are working with. "
   ]
  },
  {
   "cell_type": "code",
   "execution_count": null,
   "metadata": {},
   "outputs": [],
   "source": [
    "import pandas as pd\n",
    "import numpy as np\n",
    "\n",
    "#Import the primary bokeh figure object\n",
    "from bokeh.plotting import figure\n",
    "\n",
    "#The following calls are needed to view bokeh output in a Jupyter environment\n",
    "from bokeh.io import output_notebook, save, show\n",
    "from bokeh.resources import INLINE\n",
    "output_notebook(INLINE)"
   ]
  },
  {
   "cell_type": "markdown",
   "metadata": {},
   "source": [
    "If it works, you should see something like: \n",
    ">BokehJS 3.7.2 successfully loaded.\n",
    "\n",
    "We now have the option to use the `show` method to view a bokeh figure directly in the Jupyter cell output, or we can `save` the figure to an html file.  \n",
    "\n",
    "Lets check out a first example."
   ]
  },
  {
   "cell_type": "markdown",
   "metadata": {},
   "source": [
    "## Bokeh Example 1: Basic Line Chart\n",
    "Lets start with the basic workflow of creating bokeh plots:\n",
    "\n",
    "1. Prepare some data\n",
    "2. Create a bokeh `figure` object\n",
    "3. Add `glyphs` to the figure\n",
    "4. Output the figure (either show or save it)"
   ]
  },
  {
   "cell_type": "code",
   "execution_count": null,
   "metadata": {},
   "outputs": [],
   "source": [
    "# 1. Prepare some data\n",
    "x = [1, 2, 3, 4, 5]\n",
    "y = [6, 7, 2, 4, 5]\n",
    "\n",
    "# 2. Create a new plot/figure with a title and axis labels\n",
    "p = figure(title=\"simple line example\", \n",
    "           x_axis_label='x', y_axis_label='y',\n",
    "           height=400,width=400)\n",
    "#height and width are in screen pixels\n",
    "\n",
    "#3. Add Glyphs directly to our figure object\n",
    "p.line(x,y,legend_label='A Line',line_width=2)\n",
    "p.scatter(x,y,marker='circle_x',size=20)\n",
    "\n",
    "#4. Select whether to show or save figure\n",
    "show(p)"
   ]
  },
  {
   "cell_type": "markdown",
   "metadata": {},
   "source": [
    "We have a line plot, similar to what we could have built with matplotlib or seaborn.  But notice that our plot is interactive!  You can click and drag the plot to move around, or click on other tools to do things like wheel-zoom or box-zoom.  \n",
    "\n",
    "That is, the plot contains the javascript needed to handle those interactions, even though we only needed python to code it up.  Cool!"
   ]
  },
  {
   "cell_type": "markdown",
   "metadata": {},
   "source": [
    "There are many other interactive tools we can add to our bokeh plots.  See [Bokeh Plot Tools](https://docs.bokeh.org/en/latest/docs/user_guide/interaction/tools.html) for complete reference. \n",
    "\n",
    "<blockquote>\n",
    "    <u>Bokeh Plot Tools</u>\n",
    "    <p>\n",
    "    <b>Pan/Drag Gesture Tools:</b> Respond to user panning (on touch devices) or left-dragging (on mouse devices).\n",
    "    <ul><li>Tool Names: box_select, box_zoom, lasso_select, pan\n",
    "    </li></ul>\n",
    "    <b>Click/Tap Gesture Tools:</b> Respond to user tapping (on touch device) or left-clicking (on mouse devices).\n",
    "    <ul><li>Tool Names: poly_select, tap\n",
    "        </li></ul>\n",
    "<b>Scroll/Pinch Gesture Tools:</b> Respond to user pinching (on touch devices) or wheel scrolling (on mouse devices).\n",
    "<ul><li>Tool Names: wheel_zoom, xwheel_zoom, ywheel_zoom\n",
    "    </li></ul>\n",
    "    <b>Action Tools:</b> Take some action when user clicks on the tool button.\n",
    "<ul><li>Tool Names: save, reset, undo, redo, zoom_out, zoom_in\n",
    "    </li></ul>\n",
    "    <b>Inspection Tools:</b> Report information based on current cursor position. \n",
    "<ul><li>Tool Names: hover, crosshair\n",
    "    </li></ul>\n",
    "    </blockquote>\n",
    "    \n",
    "We can add as many tools as we want, but only one tool of each gesture type can be active at a time."
   ]
  },
  {
   "cell_type": "code",
   "execution_count": null,
   "metadata": {},
   "outputs": [],
   "source": [
    "# Plot with plot tools\n",
    "\n",
    "#random points\n",
    "np.random.seed(1)\n",
    "x = np.random.random(size=100)\n",
    "y = np.random.random(size=100)\n",
    "\n",
    "# Specify tools as string of tool names\n",
    "# Set active drag tool with active_drag\n",
    "# Can change toolbar_location\n",
    "tools = 'pan,box_select,lasso_select,tap,wheel_zoom,hover,reset,save'\n",
    "p1 = figure(title=\"A Basic Bokeh Plot\", \n",
    "           x_axis_label='x', y_axis_label='y',\n",
    "           height=400,width=400,\n",
    "          tools=tools,\n",
    "          active_drag='box_select',active_scroll='wheel_zoom',active_tap='tap',\n",
    "          toolbar_location='right')\n",
    "\n",
    "\n",
    "#Now add Glyphs directly to our figure object\n",
    "p1.scatter(x,y,size=8)\n",
    "\n",
    "#Select whether to show or save figure\n",
    "show(p1)"
   ]
  },
  {
   "cell_type": "markdown",
   "metadata": {},
   "source": [
    "Note that the `box_select` is our active Drag tool, `wheel_zoom` is our active Scroll tool, and `tap` is the active Tap tool.\n",
    "\n",
    "We also added the Hover tool.  If you hover over any point, you will see some default information, but we can add custom Tooltips."
   ]
  },
  {
   "cell_type": "code",
   "execution_count": null,
   "metadata": {},
   "outputs": [],
   "source": [
    "# Redo previous example with Hover tooltips\n",
    "# The '@x' notation means display value of the \"x\" field of the data\n",
    "TOOLTIPS = [\n",
    "    ('x val','@x'),\n",
    "    ('y val','@y')\n",
    "]\n",
    "\n",
    "tools = 'pan,box_select,lasso_select,tap,wheel_zoom,hover,reset,save'\n",
    "p1 = figure(title=\"A Basic Bokeh Plot\", \n",
    "           x_axis_label='x', y_axis_label='y',\n",
    "           height=400,width=400,\n",
    "          tools=tools,\n",
    "          active_drag='box_select',active_scroll='wheel_zoom',active_tap='tap',\n",
    "          toolbar_location='right',\n",
    "          tooltips=TOOLTIPS)\n",
    "\n",
    "\n",
    "#Now add Glyphs directly to our figure object\n",
    "p1.scatter(x,y,size=5)\n",
    "\n",
    "#Select whether to show or save figure\n",
    "show(p1)"
   ]
  },
  {
   "cell_type": "markdown",
   "metadata": {},
   "source": [
    "### Saving bokeh plots\n",
    "One of the powers of bokeh is that you can export the fully interactive graphics to a stand-alone html file, which you can then email, share, or host online.  \n",
    "\n",
    "We can save them locally using bokeh's `save` method.  \n",
    "\n",
    "There are two options for how we save a bokeh html file:\n",
    "- `resources=CDN`: When you open the html file, your machine will reach out to remote url's to pull in the javascript and css resources needed to display and render the graphics.  (CDN = Content Delivery Network)\n",
    "- `resources=INLINE`: All of those resources are included in the html file.  This means it works even when not connected to the internet (very useful on closed or classified networks), but file will be a bit bulkier (extra 1-2 MBs or so).  "
   ]
  },
  {
   "cell_type": "code",
   "execution_count": null,
   "metadata": {},
   "outputs": [],
   "source": [
    "#Make sure we have the resources to save to html\n",
    "from bokeh.resources import INLINE, CDN\n",
    "\n",
    "#Save as CDN mode\n",
    "save(p1,'bokeh_ex1_CDN.html',resources=CDN,title='Bokeh Plot')\n",
    "\n",
    "#Save as INLINE mode\n",
    "save(p1,'bokeh_ex1_INLINE.html',resources=INLINE,title='Bokeh Plot')\n",
    "\n",
    "#title is what shows up in the browser tab\n",
    "#you will get a warning if you don't include it in the save() method"
   ]
  },
  {
   "cell_type": "markdown",
   "metadata": {},
   "source": [
    "You should now be able to open either file from your local environment.  Notice that the INLINE file will be a bit larger than the CDN version (for me about 1MB vs 10 kB).  \n",
    "\n",
    "**Note:** In older versions of bokeh, you could either `show` or `save` a figure, but not both.  More recent versions seem to have fixed this issue, but if you get an error saying `Models must be owned by only a single document` when you try to save a figure, then you may have to comment out the `show(p1)` line in a previous cell in order to save it."
   ]
  },
  {
   "cell_type": "markdown",
   "metadata": {},
   "source": [
    "## Bokeh Example 2: Plotting from Pandas DataFrame\n",
    "Bokeh (as with any python plotting package) makes it easy to plot directly from a panads DataFrame.  In bokeh this is done by converting the DataFrame to a bokeh `ColumnDataSource` object, which makes it easy for bokeh to pass the data to javascript arrays. "
   ]
  },
  {
   "cell_type": "code",
   "execution_count": null,
   "metadata": {},
   "outputs": [],
   "source": [
    "from bokeh.models import ColumnDataSource"
   ]
  },
  {
   "cell_type": "code",
   "execution_count": null,
   "metadata": {},
   "outputs": [],
   "source": [
    "#If cell below doesn't work, may have to uncomment and run this cell\n",
    "#to download all sample data sets\n",
    "# Only need to run this one time\n",
    "\n",
    "# !pip install bokeh_sampledata"
   ]
  },
  {
   "cell_type": "code",
   "execution_count": null,
   "metadata": {},
   "outputs": [],
   "source": [
    "#Read in sample auto data\n",
    "from bokeh.sampledata.autompg import autompg_clean as df_auto\n",
    "df_auto.head()"
   ]
  },
  {
   "cell_type": "code",
   "execution_count": null,
   "metadata": {},
   "outputs": [],
   "source": [
    "#Plot from dataframe\n",
    "p2 = figure(height=400,width=400,title='Plotting autompg data using DataFrame')\n",
    "\n",
    "#Bokeh feeds plots with a ColumnDataSource object\n",
    "#We can create a bokeh ColumnDataSource directly from the pandas DataFrame\n",
    "source = ColumnDataSource(df_auto)\n",
    "\n",
    "#Now add circle glyphs, plotting hp (horsepower) vs mpg (miles per gallon)\n",
    "#   We specify that plot data is coming from the ColumnDataSource \"source\"\n",
    "#   We can reference column names from that source as follows\n",
    "p2.scatter(source=source,x='mpg',y='hp')\n",
    "\n",
    "#Here's another way to update axis labels\n",
    "p2.xaxis.axis_label = 'Miles per Gallon'\n",
    "p2.yaxis.axis_label = 'Horsepower'\n",
    "\n",
    "show(p2)"
   ]
  },
  {
   "cell_type": "markdown",
   "metadata": {},
   "source": [
    "An additional advantage of creating a ColumnDataSource is that we now have all fields of the dataframe within the plot.\n",
    "\n",
    "Here's how we can use those extra fields to add color coding and a more descriptive hover tool."
   ]
  },
  {
   "cell_type": "code",
   "execution_count": null,
   "metadata": {},
   "outputs": [],
   "source": [
    "#Import a few extra modules we can use\n",
    "\n",
    "#Use this to add a HoverTool and to add Color\n",
    "from bokeh.models import HoverTool, CategoricalColorMapper\n",
    "\n",
    "#Import a color palette to use\n",
    "#See https://docs.bokeh.org/en/latest/docs/reference/palettes.html\n",
    "from bokeh.palettes import Spectral6"
   ]
  },
  {
   "cell_type": "code",
   "execution_count": null,
   "metadata": {},
   "outputs": [],
   "source": [
    "#Build Tooltips and see what they look like\n",
    "TOOLTIPS = [(c,'@'+c) for c in df_auto.columns]\n",
    "TOOLTIPS"
   ]
  },
  {
   "cell_type": "code",
   "execution_count": null,
   "metadata": {},
   "outputs": [],
   "source": [
    "#Plot from dataframe\n",
    "p2 = figure(height=400,width=400,\n",
    "           title='Plotting autompg data using DataFrame')\n",
    "\n",
    "#Build ColumnDataSource\n",
    "source2 = ColumnDataSource(df_auto)\n",
    "\n",
    "#Now add circle glyphs, plotting hp (horsepower) vs mpg (miles per gallon)\n",
    "#Add unique colors for each value of \"origin\" field\n",
    "origin_list = list(df_auto.origin.unique())\n",
    "color_mapper = CategoricalColorMapper(palette=Spectral6, factors=origin_list)\n",
    "p2.scatter(source=source2,x='mpg',y='hp',\n",
    "         color={'field': 'origin', 'transform': color_mapper},\n",
    "        fill_alpha=0.8,\n",
    "         legend_group='origin'\n",
    "        )\n",
    "\n",
    "#Update Axis Labels\n",
    "p2.xaxis.axis_label = 'Miles per Gallon'\n",
    "p2.yaxis.axis_label = 'Horsepower'\n",
    "\n",
    "#Add Hovertool to existing plot\n",
    "h = HoverTool(tooltips=TOOLTIPS)\n",
    "p2.add_tools(h)\n",
    "\n",
    "show(p2)\n",
    "\n",
    "#Hover over points to see tooltips"
   ]
  },
  {
   "cell_type": "markdown",
   "metadata": {},
   "source": [
    "## Bokeh Example 3: Adding Widgets and Interactions\n",
    "Now comes some of the real magic of bokeh: Adding widgets and handling user interactions. \n",
    "\n",
    "However, this magic doesn't come for free.  You do need to add a bit of javascript code to handle the callback behavior, but bokeh provides convenient methods and frameworks that make this relatively painless.  And once you master this, you can create incredibly powerful interactive web graphics as a stand-alone html file without needing to set up a server infrastructure. \n",
    "\n",
    "The key bokeh mechanism is to use a `CustomJS` object to add JavaScript snippets that control how widget interactions should change the plot data or the plot itself.  \n",
    "\n",
    "Lets look at an example."
   ]
  },
  {
   "cell_type": "code",
   "execution_count": null,
   "metadata": {},
   "outputs": [],
   "source": [
    "#Import a few more things we will need\n",
    "\n",
    "#Import the widgets we plan to use\n",
    "from bokeh.models.widgets import Select, RangeSlider\n",
    "\n",
    "#Import layout methods for combining plots and widgets\n",
    "from bokeh.layouts import row, column\n",
    "\n",
    "#Import CustomJS, which enables us to add JavaScript code to control behavior\n",
    "from bokeh.models import CustomJS"
   ]
  },
  {
   "cell_type": "code",
   "execution_count": null,
   "metadata": {},
   "outputs": [],
   "source": [
    "#Lets first build the new layout with plot and widgets\n",
    "\n",
    "#Build standard plot, same as before\n",
    "p3 = figure(height=400,width=400,\n",
    "           title='Autompg Data with Interactive Widgets')\n",
    "source3 = ColumnDataSource(df_auto)\n",
    "origin_list = list(df_auto.origin.unique())\n",
    "color_mapper = CategoricalColorMapper(palette=Spectral6, factors=origin_list)\n",
    "p3.scatter(source=source3,x='mpg',y='hp',\n",
    "         color={'field': 'origin', 'transform': color_mapper},\n",
    "        fill_alpha=0.8,\n",
    "         legend_group='origin'\n",
    "        )\n",
    "p3.xaxis.axis_label = 'Miles per Gallon'\n",
    "p3.yaxis.axis_label = 'Horsepower'\n",
    "p3.add_tools(h)\n",
    "\n",
    "#Now we want to add some widgets\n",
    "origin_select = Select(options=['All'] + list(df_auto.origin.unique()),\n",
    "                       value='All',\n",
    "                      title='Select Origin')\n",
    "low_yr = df_auto.yr.min()\n",
    "high_yr = df_auto.yr.max()\n",
    "yr_slider = RangeSlider(start=low_yr,end=high_yr,value=(low_yr,high_yr),\n",
    "                        width=200,\n",
    "                       title='Select Year Range')\n",
    "\n",
    "#Create a widget layout\n",
    "widgets = column(origin_select,yr_slider)\n",
    "\n",
    "#Create final layout\n",
    "layout3 = row(p3,widgets)\n",
    "\n",
    "show(layout3)"
   ]
  },
  {
   "cell_type": "markdown",
   "metadata": {},
   "source": [
    "Now we have a cool layout showing the plot next to our widgets.  But so far the widgets don't **do anything**.\n",
    "\n",
    "**`CustomJS`** to the rescue!  Lets see it in action.\n",
    "\n",
    "One small change, lets add an `x_active` field to original dataframe and use that to plot our points.  This will enable us to control (with the CustomJS javascript snippet) whether each point is active or not on the plot."
   ]
  },
  {
   "cell_type": "code",
   "execution_count": null,
   "metadata": {},
   "outputs": [],
   "source": [
    "#Add x_active to df\n",
    "df_auto['x_active'] = df_auto.mpg\n",
    "df_auto.head(2)"
   ]
  },
  {
   "cell_type": "code",
   "execution_count": null,
   "metadata": {},
   "outputs": [],
   "source": [
    "#Add JavaScript callbacks to wire up widgets\n",
    "\n",
    "#Build standard plot, same as before\n",
    "#NEW: Fix x and y range\n",
    "p3 = figure(height=400,width=400,\n",
    "           title='Plotting autompg data with Interactive Widgets ',\n",
    "          x_range=(df_auto.mpg.min()-1,df_auto.mpg.max()+1),\n",
    "          y_range=(df_auto.hp.min()-5,df_auto.hp.max()+5))\n",
    "source3 = ColumnDataSource(df_auto)\n",
    "origin_list = list(df_auto.origin.unique())\n",
    "color_mapper = CategoricalColorMapper(palette=Spectral6, factors=origin_list)\n",
    "#NEW: Change x to be x_active\n",
    "p3.scatter(source=source3,x='x_active',y='hp',\n",
    "         color={'field': 'origin', 'transform': color_mapper},\n",
    "        fill_alpha=0.8,\n",
    "         legend_group='origin'\n",
    "        )\n",
    "p3.xaxis.axis_label = 'Miles per Gallon'\n",
    "p3.yaxis.axis_label = 'Horsepower'\n",
    "p3.add_tools(h)\n",
    "\n",
    "#Now we want to add some widgets\n",
    "origin_select = Select(options=['All'] + list(df_auto.origin.unique()),\n",
    "                       value='All',\n",
    "                      title='Select Origin')\n",
    "low_yr = df_auto.yr.min()\n",
    "high_yr = df_auto.yr.max()\n",
    "yr_slider = RangeSlider(start=low_yr,end=high_yr,value=(low_yr,high_yr),\n",
    "                        width=200,\n",
    "                       title='Select Year Range')\n",
    "\n",
    "#Create a widget layout\n",
    "widgets = column(origin_select,yr_slider)\n",
    "\n",
    "#Create final layout\n",
    "layout3 = row(p3,widgets)\n",
    "\n",
    "#NEW: Add CustomJS\n",
    "#  \"args\" makes python bokeh objects available within the javascript environment\n",
    "#  \"code\" is javascript snippet that can access and update those bokeh objects\n",
    "callback = CustomJS(args=dict(source=source3, origin_select=origin_select, \n",
    "                              yr_slider=yr_slider),\n",
    "                    code=\"\"\"\n",
    "                    //Now we are in javascript world!\n",
    "                    //Use double forward slash for comments\n",
    "                    /*\n",
    "                    Can also do multi line comment like this\n",
    "                    Useful for debugging..\n",
    "                    */\n",
    "                    \n",
    "                    //Get the current value of all widgets\n",
    "                    var origin = origin_select.value;\n",
    "                    var yr_range = yr_slider.value; //A JS array such as [70,82]\n",
    "                    var yr_min = yr_range[0];\n",
    "                    var yr_max = yr_range[1];\n",
    "                    \n",
    "                    //Grab the source data\n",
    "                    //This returns a JavaScript array\n",
    "                    var data = source.data;\n",
    "                    \n",
    "                    //Now grab the x_active column so we can update it\n",
    "                    var x_active_col = data['x_active'];\n",
    "                    \n",
    "                    //Go through every row, and remove point if needed\n",
    "                    for (var i=0; i<x_active_col.length; i++) {\n",
    "                        //Check all conditions\n",
    "                        var origin_bool = ((data['origin'][i]==origin) || (origin=='All'));\n",
    "                        var yr_bool = ((data['yr'][i] <= yr_max) && (data['yr'][i] >= yr_min));\n",
    "                        \n",
    "                        if ( origin_bool && yr_bool) {\n",
    "                            //This point fits with all filters\n",
    "                            //Set it equal to the mpg column\n",
    "                            x_active_col[i] = data['mpg'][i];\n",
    "                        } else {\n",
    "                            //This point does NOT fit with filters\n",
    "                            //Set it to javascript NaN to null it out\n",
    "                            x_active_col[i] = NaN;\n",
    "                        }\n",
    "                    }\n",
    "                    \n",
    "                    //We have now updated the x_active column based on filters\n",
    "                    //One more step to push the changes\n",
    "                    source.change.emit();\n",
    "\"\"\")\n",
    "\n",
    "#Now \"wire up\" the widgets with this CustomJS callback\n",
    "#We can attach this callback to the widgets by calling js_on_change()\n",
    "origin_select.js_on_change('value',callback)\n",
    "yr_slider.js_on_change('value',callback)\n",
    "\n",
    "show(layout3)"
   ]
  },
  {
   "cell_type": "markdown",
   "metadata": {},
   "source": [
    "Many other useful options for building in interactivity into Bokeh plots.  See [Bokeh Interactivity User Guide](https://docs.bokeh.org/en/latest/docs/user_guide/interaction.html#ug-interaction) as well as [Bokeh Gallery](https://docs.bokeh.org/en/latest/docs/gallery.html) (particularly the Interactivity examples).  \n",
    "\n",
    "Here are a couple other interaction tricks that might be useful."
   ]
  },
  {
   "cell_type": "markdown",
   "metadata": {},
   "source": [
    "#### Adding Download Button\n",
    "Using the right Javascript code, you can give a user the option to download the underlying datasets."
   ]
  },
  {
   "cell_type": "code",
   "execution_count": null,
   "metadata": {},
   "outputs": [],
   "source": [
    "#Function to generate Javascript Code used to export \n",
    "def get_source_download_code(df,source_name='source'):\n",
    "    download_code = \"\"\"\n",
    "        let data = {}.data;\n",
    "        let L = data['{}'].length;\n",
    "        let out = \\\"\"\"\".format(source_name,df.columns[0])\n",
    "    \n",
    "    for c in df.columns:\n",
    "        download_code += c + \",\"\n",
    "        \n",
    "    download_code += \"\"\"\\\\n\";\n",
    "        for (let i = 0; i < L; i++) {\"\"\"\n",
    "    \n",
    "    for c in df.columns:\n",
    "        download_code += \"\"\"\n",
    "            out += data['{}'][i] + \",\";\"\"\".format(c)\n",
    "        \n",
    "    download_code += \"\"\"\n",
    "            out += \"\\\\n\";\n",
    "        }\n",
    "        \n",
    "        //create a text file\n",
    "        let file = new Blob([out], {type: 'text/plain'});\n",
    "        \n",
    "        //create a link element (<a>link</a>)\n",
    "        let elem = window.document.createElement('a');\n",
    "        \n",
    "        //modify the link to point to the text file\n",
    "        elem.href = window.URL.createObjectURL(file);\n",
    "        \n",
    "        //make that file download, from the link\n",
    "        elem.download = 'plot_data.csv'\n",
    "        \n",
    "        //add the link to the web page\n",
    "        document.body.appendChild(elem);\n",
    "        \n",
    "        elem.click(); //on click..\n",
    "        document.body.removeChild(elem); //remove the link\n",
    "    \"\"\"\n",
    "    \n",
    "    return download_code\n",
    "\n",
    "#Get a feel for what the javascript code looks like\n",
    "print(get_source_download_code(df_auto))"
   ]
  },
  {
   "cell_type": "markdown",
   "metadata": {},
   "source": [
    "Now add a bokeh `Button` that uses that code as its javascript callback when clicked."
   ]
  },
  {
   "cell_type": "code",
   "execution_count": null,
   "metadata": {},
   "outputs": [],
   "source": [
    "#Use Button to Export Data\n",
    "from bokeh.models import Button\n",
    "\n",
    "#Re-build basic autompg plot\n",
    "p4 = figure(height=400,width=400,\n",
    "           title='Plotting autompg data')\n",
    "source4 = ColumnDataSource(df_auto)\n",
    "origin_list = list(df_auto.origin.unique())\n",
    "color_mapper = CategoricalColorMapper(palette=Spectral6, factors=origin_list)\n",
    "\n",
    "#Plot points\n",
    "p4.scatter(source=source3,x='mpg',y='hp',\n",
    "           color={'field': 'origin', 'transform': color_mapper},\n",
    "           fill_alpha=0.8,\n",
    "           legend_group='origin'\n",
    "        )\n",
    "p4.xaxis.axis_label = 'Miles per Gallon'\n",
    "p4.yaxis.axis_label = 'Horsepower'\n",
    "p4.add_tools(h)\n",
    "\n",
    "#Add button \n",
    "button = Button(label='Download Data',button_type='success')\n",
    "button_callback = CustomJS(args=dict(source=source4),\n",
    "                           code=get_source_download_code(df_auto))\n",
    "button.js_on_click(button_callback)\n",
    "\n",
    "layout = row(p4,button)\n",
    "show(layout)"
   ]
  },
  {
   "cell_type": "markdown",
   "metadata": {},
   "source": [
    "### Bokeh Example 4: Creating Layouts\n",
    "Bokeh also shines in its ability to create layouts of multiple elements and multiple charts side by side."
   ]
  },
  {
   "cell_type": "code",
   "execution_count": null,
   "metadata": {},
   "outputs": [],
   "source": [
    "my_dashboard = column(row(p1,p2),\n",
    "                      layout3)\n",
    "show(my_dashboard)"
   ]
  },
  {
   "cell_type": "markdown",
   "metadata": {},
   "source": [
    "Another useful feature is Bokeh Tabs."
   ]
  },
  {
   "cell_type": "code",
   "execution_count": null,
   "metadata": {},
   "outputs": [],
   "source": [
    "from bokeh.models import Tabs, TabPanel\n",
    "\n",
    "tab1 = TabPanel(child=p1, title=\"Basic Plot\")\n",
    "tab2 = TabPanel(child=p2, title=\"Autompg from DataFrame\")\n",
    "tab3 = TabPanel(child=layout3, title=\"Autompg with Widgets\")\n",
    "all_tabs = Tabs(tabs=[tab1, tab2,tab3])\n",
    "show(all_tabs)"
   ]
  },
  {
   "cell_type": "code",
   "execution_count": null,
   "metadata": {},
   "outputs": [],
   "source": [
    "from bokeh.models import Div\n",
    "\n",
    "header = Div()\n",
    "#Add some HTML text to the Div element\n",
    "header.text = \"\"\"\n",
    "<img src='Images/NPS_Logo.jpg' style=\"float:left;height:75px;\"/>\n",
    "<h1>My First Bokeh Plots</h1>\n",
    "<h3>Here are a few plots built using Bokeh</h3>\n",
    "<ul><li>Some plots use \n",
    "<a href=\"https://docs.bokeh.org/en/latest/docs/reference/sampledata.html#sampledata-autompg2\"\n",
    "   target=\"_blank\">\n",
    "autompg</a> sample data from the bokeh library.\n",
    "</li></ul>\n",
    "\"\"\"\n",
    "\n",
    "#Combine into final layout\n",
    "my_layout = column(header,all_tabs)\n",
    "show(my_layout)"
   ]
  },
  {
   "cell_type": "markdown",
   "metadata": {},
   "source": [
    "## Bokeh and Interactive Plotting Summary\n",
    "There is certainly a learning curve with bokeh, but once you understand the basic mechanics of integrating custom JavaScript callbacks, you can create very powerful interactive graphics that are fully contained within a stand-alone html file.  \n",
    "\n",
    "Bokeh also has a server mode where user interactions trigger *python* callbacks.  This of course can be more powerful, but requires setting up a server infrastructure.  \n",
    "\n",
    "There are also other useful python packages that build on top of bokeh to make it easier to create interactive dashboards, such as [Panel](https://panel.holoviz.org/) and [HoloViews](https://holoviews.org/).  These packages are beyond the scope of this primer, but worth checking out if you want to build more complex interactive dashboards.\n",
    "\n",
    "Finally, there are other python visualization packages that provide similar functionality, such as [Plotly](https://plotly.com/python/) and [streamlit](https://docs.streamlit.io/).  These are also worth checking out if you want to explore other options for interactive graphics."
   ]
  },
  {
   "cell_type": "markdown",
   "metadata": {},
   "source": [
    "# Making GIFs"
   ]
  },
  {
   "cell_type": "markdown",
   "metadata": {},
   "source": [
    "Now what everyone came here for, making GIFs!\n",
    "\n",
    "<img src=\"Images/carlton_dance.gif\" width=400 align=center>"
   ]
  },
  {
   "cell_type": "code",
   "execution_count": null,
   "metadata": {},
   "outputs": [],
   "source": [
    "#Re-import in case you're starting at this point in the notebook\n",
    "import pandas as pd\n",
    "import numpy as np\n",
    "import matplotlib.pyplot as plt"
   ]
  },
  {
   "cell_type": "code",
   "execution_count": 107,
   "metadata": {},
   "outputs": [],
   "source": [
    "#Create a folder called \"GIF_Images\" in the same directory as this notebook\n",
    "import os\n",
    "if not os.path.exists('GIF_Images'):\n",
    "    os.makedirs('GIF_Images')"
   ]
  },
  {
   "cell_type": "code",
   "execution_count": null,
   "metadata": {},
   "outputs": [],
   "source": [
    "#Create sequence of image files\n",
    "base_filename = \"GIF_Images/Image_sequence_{:02d}.png\" #Formats numbers to 2 places, e.g. 3 becomes 03\n",
    "x_list = [np.sin(a) for a in np.linspace(0,2*3.1415,20)]\n",
    "for i, x in enumerate(x_list):\n",
    "    fig, ax = plt.subplots()\n",
    "    plt.scatter(x,0,s=400,c='orange')\n",
    "    ax.set_xlim([-2,2])\n",
    "    plt.savefig(base_filename.format(i))\n",
    "    plt.close() #Stops current plot from showing up in output\n",
    "    \n",
    "#Now look in the GIF_Images folder to see the sequence of image files"
   ]
  },
  {
   "cell_type": "code",
   "execution_count": null,
   "metadata": {},
   "outputs": [],
   "source": [
    "#Convert sequence of images to a GIF\n",
    "from PIL import Image\n",
    "import glob\n",
    " \n",
    "# Create the frames\n",
    "frames = []\n",
    "imgs = glob.glob(\"GIF_Images/Image_sequence_*.png\") \n",
    "#glob grabs all files that match this format, with * being any substring\n",
    "#sort the images in order\n",
    "imgs = sorted(imgs)\n",
    "for i in imgs:\n",
    "    new_frame = Image.open(i)\n",
    "    frames.append(new_frame)\n",
    "\n",
    "#Save into a GIF file that loops forever (loop=0)\n",
    "#duration specifies time (in ms) to stay on each image\n",
    "frames[0].save('GIF_Images/my_gif.gif', format='GIF',\n",
    "               append_images=frames[1:],\n",
    "               save_all=True,\n",
    "               duration=300, loop=0)"
   ]
  },
  {
   "cell_type": "markdown",
   "metadata": {},
   "source": [
    "Now check out the gif file in the Images folder.  You can play around with duration to make the gif faster or slower. "
   ]
  },
  {
   "cell_type": "code",
   "execution_count": null,
   "metadata": {},
   "outputs": [],
   "source": []
  }
 ],
 "metadata": {
  "kernelspec": {
   "display_name": "DL",
   "language": "python",
   "name": "python3"
  },
  "language_info": {
   "codemirror_mode": {
    "name": "ipython",
    "version": 3
   },
   "file_extension": ".py",
   "mimetype": "text/x-python",
   "name": "python",
   "nbconvert_exporter": "python",
   "pygments_lexer": "ipython3",
   "version": "3.12.7"
  }
 },
 "nbformat": 4,
 "nbformat_minor": 4
}
